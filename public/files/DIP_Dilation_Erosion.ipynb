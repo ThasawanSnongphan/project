{
  "nbformat": 4,
  "nbformat_minor": 0,
  "metadata": {
    "colab": {
      "provenance": []
    },
    "kernelspec": {
      "name": "python3",
      "display_name": "Python 3"
    },
    "language_info": {
      "name": "python"
    }
  },
  "cells": [
    {
      "cell_type": "code",
      "execution_count": 5,
      "metadata": {
        "colab": {
          "base_uri": "https://localhost:8080/"
        },
        "id": "GzaizGpYAro7",
        "outputId": "b40f10de-c18a-4d2e-c2e0-4be634f20eed"
      },
      "outputs": [
        {
          "output_type": "stream",
          "name": "stdout",
          "text": [
            "ผลลัพธ์หลังการทำ Dilation:\n",
            "[[0 1 1 0 0]\n",
            " [1 1 1 1 0]\n",
            " [0 1 1 1 1]\n",
            " [1 1 1 1 0]\n",
            " [0 1 1 0 0]]\n",
            "\n",
            "ผลลัพธ์หลังการทำ Erosion:\n",
            "[[0 0 0 0 0]\n",
            " [0 0 1 0 0]\n",
            " [0 0 1 1 0]\n",
            " [0 0 0 0 0]\n",
            " [0 0 0 0 0]]\n"
          ]
        }
      ],
      "source": [
        "import numpy as np\n",
        "from scipy.ndimage import binary_dilation, binary_erosion\n",
        "\n",
        "# เมทริกซ์ต้นฉบับ\n",
        "input_image_dilation = np.array([\n",
        "    [0, 0, 0, 0, 0],\n",
        "    [0, 1, 1, 0, 0],\n",
        "    [0, 0, 1, 1, 0],\n",
        "    [0, 1, 1, 0, 0],\n",
        "    [0, 0, 0, 0, 0]\n",
        "])\n",
        "# โครงสร้างแม่แบบ\n",
        "structuring_element_dilation = np.array([\n",
        "    [0, 1, 0],\n",
        "    [1, 1, 1],\n",
        "    [0, 1, 0]\n",
        "])\n",
        "# ทำ Dilation\n",
        "output_image_dilation = binary_dilation(input_image_dilation, structure=structuring_element_dilation).astype(int)\n",
        "print(\"ผลลัพธ์หลังการทำ Dilation:\")\n",
        "print(output_image_dilation)\n",
        "\n",
        "input_image_erosion = np.array([\n",
        "    [0, 0, 0, 0, 0],\n",
        "    [0, 1, 1, 0, 0],\n",
        "    [0, 1, 1, 1, 0],\n",
        "    [0, 0, 1, 1, 0],\n",
        "    [0, 0, 0, 0, 0]\n",
        "])\n",
        "structuring_element_erosion = np.array([\n",
        "    [0, 0, 0],\n",
        "    [1, 1, 0],\n",
        "    [0, 1, 0]\n",
        "])\n",
        "# ทำ Erosion\n",
        "output_image_erosion = binary_erosion(input_image_erosion, structure=structuring_element_erosion).astype(int)\n",
        "\n",
        "print(\"\\nผลลัพธ์หลังการทำ Erosion:\")\n",
        "print(output_image_erosion)"
      ]
    }
  ]
}